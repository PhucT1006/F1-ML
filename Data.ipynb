{
 "cells": [
  {
   "cell_type": "code",
   "execution_count": null,
   "id": "6b5eaed7",
   "metadata": {},
   "outputs": [],
   "source": [
    "import pandas as pd\n",
    "import fastf1 as f1 \n",
    "schedule1 = f1.get_event_schedule(2022, include_testing=False)\n",
    "schedule1\n",
    "\n",
    "\n",
    "schedule_2022 = schedule1[['RoundNumber', 'Location', 'EventName']]\n",
    "schedule_2022.dtypes\n",
    "\n",
    "schedule2 = f1.get_event_schedule(2023, include_testing=False)\n",
    "schedule_2023 = schedule2[['RoundNumber', 'Location', 'EventName']]\n",
    "schedule_2023.dtypes\n",
    "\n"
   ]
  }
 ],
 "metadata": {
  "language_info": {
   "name": "python"
  }
 },
 "nbformat": 4,
 "nbformat_minor": 5
}
