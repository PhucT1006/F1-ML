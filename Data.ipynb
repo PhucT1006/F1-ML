{
 "cells": [
  {
   "cell_type": "code",
   "execution_count": null,
   "id": "6b5eaed7",
   "metadata": {},
   "outputs": [
    {
     "name": "stderr",
     "output_type": "stream",
     "text": [
      "core           INFO \tLoading data for Australian Grand Prix - Race [v3.5.3]\n",
      "req            INFO \tUsing cached data for session_info\n",
      "req            INFO \tUsing cached data for driver_info\n",
      "req            INFO \tUsing cached data for session_status_data\n",
      "req            INFO \tUsing cached data for lap_count\n",
      "req            INFO \tUsing cached data for track_status_data\n",
      "req            INFO \tUsing cached data for _extended_timing_data\n",
      "req            INFO \tUsing cached data for timing_app_data\n",
      "core           INFO \tProcessing timing data...\n",
      "req            INFO \tUsing cached data for car_data\n",
      "req            INFO \tUsing cached data for position_data\n",
      "req            INFO \tUsing cached data for weather_data\n",
      "req            INFO \tUsing cached data for race_control_messages\n",
      "core        WARNING \tDriver 16 completed the race distance 00:00.140000 before the recorded end of the session.\n",
      "core           INFO \tFinished loading data for 20 drivers: ['16', '11', '63', '44', '4', '3', '31', '77', '10', '23', '24', '18', '47', '20', '22', '6', '14', '1', '5', '55']\n",
      "core           INFO \tLoading data for Australian Grand Prix - Race [v3.5.3]\n",
      "req            INFO \tUsing cached data for session_info\n",
      "req            INFO \tUsing cached data for driver_info\n",
      "req            INFO \tUsing cached data for session_status_data\n",
      "req            INFO \tUsing cached data for lap_count\n",
      "req            INFO \tUsing cached data for track_status_data\n",
      "req            INFO \tUsing cached data for _extended_timing_data\n",
      "req            INFO \tUsing cached data for timing_app_data\n",
      "core           INFO \tProcessing timing data...\n"
     ]
    },
    {
     "name": "stdout",
     "output_type": "stream",
     "text": [
      "Charles Leclerc\n",
      "Sergio Perez\n",
      "George Russell\n",
      "Lewis Hamilton\n",
      "Lando Norris\n",
      "Daniel Ricciardo\n",
      "Esteban Ocon\n",
      "Valtteri Bottas\n",
      "Pierre Gasly\n",
      "Alexander Albon\n",
      "Guanyu Zhou\n",
      "Lance Stroll\n",
      "Mick Schumacher\n",
      "Kevin Magnussen\n",
      "Yuki Tsunoda\n",
      "Nicholas Latifi\n",
      "Fernando Alonso\n",
      "Max Verstappen\n",
      "Sebastian Vettel\n",
      "Carlos Sainz\n"
     ]
    },
    {
     "name": "stderr",
     "output_type": "stream",
     "text": [
      "req            INFO \tUsing cached data for car_data\n",
      "req            INFO \tUsing cached data for position_data\n",
      "req            INFO \tUsing cached data for weather_data\n",
      "req            INFO \tUsing cached data for race_control_messages\n",
      "core           INFO \tFinished loading data for 20 drivers: ['1', '44', '14', '18', '11', '4', '27', '81', '24', '22', '77', '55', '10', '31', '21', '2', '20', '63', '23', '16']\n"
     ]
    },
    {
     "name": "stdout",
     "output_type": "stream",
     "text": [
      "Max Verstappen\n",
      "Lewis Hamilton\n",
      "Fernando Alonso\n",
      "Lance Stroll\n",
      "Sergio Perez\n",
      "Lando Norris\n",
      "Nico Hulkenberg\n",
      "Oscar Piastri\n",
      "Guanyu Zhou\n",
      "Yuki Tsunoda\n",
      "Valtteri Bottas\n",
      "Carlos Sainz\n",
      "Pierre Gasly\n",
      "Esteban Ocon\n",
      "Nyck De Vries\n",
      "Logan Sargeant\n",
      "Kevin Magnussen\n",
      "George Russell\n",
      "Alexander Albon\n",
      "Charles Leclerc\n",
      "Daniel Ricciardo\n"
     ]
    }
   ],
   "source": [
    "import pandas as pd\n",
    "import fastf1 as f1 \n",
    "\n",
    "\n",
    "# schedule for 2022 season \n",
    "schedule22 = f1.get_event_schedule(2022, include_testing=False)\n",
    "schedule_2022 = schedule22[['RoundNumber', 'Location', 'EventName']]\n",
    "\n",
    "# schedule for 2023 season \n",
    "schedule23 = f1.get_event_schedule(2023, include_testing=False)\n",
    "schedule_2023 = schedule23[['RoundNumber', 'Location', 'EventName']]\n",
    "\n",
    "\n",
    "# This is what I am expecting the result to contain (Doesn't have to be in the same order) \n",
    "\"\"\" drivers_2022_list = [\"Zhou Guanyu\", \"Valtteri Bottas\", \"Pierre Gasly\", \"Yuki Tsunoda\",\"Fernando Alonso\", \"Esteban Ocon\",\"Sesbastian Vettel\",\"Lance Stroll\",\"Charles Leclerc\",\"Carlos Sainz Jr.\",\"Kevin Magnussen\",\"Mick Schumacher\",\"Daniel Ricciardo\", \"Lando Norris\",\"Lewis Hamilton\",\"George Russell\",\" Max Verstappen\",\" Sergio Perez\", \"Nicholas Latifi\", \"Alexander Albon\"] \"\"\" \n",
    "\n",
    "\n",
    "# I am choosing the Australian GP randomly because it contains all the main drivers in their main team.  \n",
    "F1_2022_AUS = f1.get_session(2022, \"Australian Grand Prix\", \"R\" )\n",
    "F1_2022_AUS.load(telemetry=True, laps=True)\n",
    "drivers_2022_list = F1_2022_AUS.results['FullName'].tolist()\n",
    "\n",
    "F1_2023_AUS = f1.get_session(2023, 'Australian Grand Prix', 'R')\n",
    "F1_2023_AUS.load()\n",
    "drivers_2023_list = F1_2023_AUS.results['FullName'].tolist()\n",
    "drivers_2023_list.append('Daniel Ricciardo')\n"
   ]
  },
  {
   "cell_type": "code",
   "execution_count": null,
   "id": "fa3ae80c",
   "metadata": {},
   "outputs": [],
   "source": []
  }
 ],
 "metadata": {
  "kernelspec": {
   "display_name": "base",
   "language": "python",
   "name": "python3"
  },
  "language_info": {
   "codemirror_mode": {
    "name": "ipython",
    "version": 3
   },
   "file_extension": ".py",
   "mimetype": "text/x-python",
   "name": "python",
   "nbconvert_exporter": "python",
   "pygments_lexer": "ipython3",
   "version": "3.13.5"
  }
 },
 "nbformat": 4,
 "nbformat_minor": 5
}
